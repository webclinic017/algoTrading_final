{
 "cells": [
  {
   "cell_type": "markdown",
   "id": "06bec6fe",
   "metadata": {},
   "source": [
    "### 參考資料\n",
    "Ref ：https://blog.csdn.net/FrankieHello/article/details/86770852"
   ]
  },
  {
   "cell_type": "markdown",
   "id": "cc03cbd6",
   "metadata": {},
   "source": [
    "### 初始化股票編號、股票中文名稱對照"
   ]
  },
  {
   "cell_type": "code",
   "execution_count": 38,
   "id": "3509a025",
   "metadata": {},
   "outputs": [],
   "source": [
    "stock_no = { 0: 1101, 1: 1216, 2: 1301, 3: 1303, 4: 1326, 5: 1590, 6: 2002, 7: 2207, 8: 2303, 9: 2308\n",
    "          , 10: 2317, 11: 2327, 12: 2330, 13: 2357, 14: 2379, 15: 2382, 16: 2395, 17: 2408, 18: 2409\n",
    "          , 19: 2412, 20: 2454, 21: 2603, 22: 2609, 23: 2615, 24: 2801, 25: 2880, 26: 2881, 27: 2882\n",
    "          , 28: 2884, 29: 2885, 30: 2886, 31: 2887, 32: 2891, 33: 2892, 34: 2912, 35: 3008, 36: 3034\n",
    "          , 37: 3037, 38: 3045, 39: 3711, 40: 4904, 41: 4938, 42: 5871, 43: 5876, 44: 5880, 45: 6415\n",
    "          , 46: 6505, 47: 8046, 48: 8454, 49: 9910}\n",
    "\n",
    "stock_chinese_name = { 1101 : \"台泥\", 1216 : \"統一\", 1301 : \"台塑\", 1303 : \"南亞\", 1326 : \"台化\", 1590 : \"亞德客-KY\", \n",
    "                      2002 : \"中鋼\", 2207 : \"和泰車\", 2303 : \"聯電\", 2308 : \"台達電\", 2317 : \"鴻海\", 2327 : \"國巨\", \n",
    "                      2330 : \"台積電\", 2357 : \"華碩\", 2379 : \"瑞昱\", 2382 : \"廣達\", 2395 : \"研華\", 2408 : \"南亞科技\", \n",
    "                      2409 : \"友達\", 2412 : \"中華電\", 2454 : \"聯發科\", 2603 : \"長榮\", 2609 : \"陽明\", 2615 : \"萬海\", \n",
    "                      2801 : \"彰銀\", 2880 : \"華南金\", 2881 : \"富邦金\", 2882 : \"國泰金\", 2884 : \"玉山金\", 2885 : \"元大金\", \n",
    "                      2886 : \"兆豐金\", 2887 : \"台新金\", 2891 : \"中信金\", 2892 : \"第一金\", 2912 : \"統一超\", 3008 : \"大立光\", \n",
    "                      3034 : \"聯詠\", 3037 : \"欣興\", 3045 : \"台灣大哥大\", 3711 : \"日月光投控\", 4904 : \"遠傳\", 4938 : \"和碩\", \n",
    "                      5871 : \"中租\", 5876 : \"上海商銀\", 5880 : \"合庫金\", 6415 : \"矽力-KY\", 6505 : \"台塑石化\", 8046 : \"南電\",\n",
    "                      8454 : \"富邦媒體\", 9910 : \"豐泰\"}\n"
   ]
  },
  {
   "cell_type": "code",
   "execution_count": 39,
   "id": "a3297de4",
   "metadata": {},
   "outputs": [],
   "source": [
    "#載入pandas\n",
    "import pandas as pd\n",
    "\n",
    "#載入資料檔\n",
    "df = pd.read_csv('/Users/xueyichen/Desktop/0050/total.csv')\n",
    "\n",
    "#將第一行（col）轉變爲Index\n",
    "df.set_index('Index',inplace = True)"
   ]
  },
  {
   "cell_type": "code",
   "execution_count": 40,
   "id": "94ef00cd",
   "metadata": {},
   "outputs": [
    {
     "data": {
      "text/plain": [
       "False"
      ]
     },
     "execution_count": 40,
     "metadata": {},
     "output_type": "execute_result"
    }
   ],
   "source": [
    "#檢查是否有缺漏值\n",
    "df.isnull().values.any()"
   ]
  },
  {
   "cell_type": "markdown",
   "id": "da7c45d2",
   "metadata": {},
   "source": [
    "### 檢查一次差分後，做完adf檢驗所產出的p value是否小於0.05\n",
    "\n",
    "* price_diff = 差分後結果\n",
    "\n",
    "* 將做ADF後的結果儲存至adf_result"
   ]
  },
  {
   "cell_type": "code",
   "execution_count": 41,
   "id": "b7205a8b",
   "metadata": {},
   "outputs": [],
   "source": [
    "from statsmodels.tsa.stattools import adfuller\n",
    "import numpy as np\n",
    "\n",
    "adf_result={}\n",
    "\n",
    "for i in range(0,50):\n",
    "    \n",
    "    df1 = df.iloc[:, i]\n",
    "    \n",
    "    price = np.reshape(df1,-1)\n",
    "    \n",
    "    price_diff = np.diff(price)\n",
    "    \n",
    "    adf_result[i] = adfuller(price_diff)\n",
    "    "
   ]
  },
  {
   "cell_type": "markdown",
   "id": "8cd61693",
   "metadata": {},
   "source": [
    "### 刪除p-value < 0.05 的股票"
   ]
  },
  {
   "cell_type": "markdown",
   "id": "86d905fe",
   "metadata": {},
   "source": [
    "### 50支股票的adf都滿足一階單整，p-value全部小於0.05"
   ]
  },
  {
   "cell_type": "code",
   "execution_count": 42,
   "id": "d3b6f2b1",
   "metadata": {},
   "outputs": [
    {
     "name": "stdout",
     "output_type": "stream",
     "text": [
      "False\n"
     ]
    }
   ],
   "source": [
    "for r in adf_result :\n",
    "    if adf_result.get(r)[1] > 0.05 :\n",
    "        print(r)\n",
    "        del adf_result[r]\n",
    "\n",
    "print(len(adf_result.keys()) < 50)"
   ]
  },
  {
   "cell_type": "markdown",
   "id": "e192db28",
   "metadata": {},
   "source": [
    "### 另一範例\n",
    "Ref : https://www.programcreek.com/python/?code=PacktPublishing%2FLearn-Algorithmic-Trading%2FLearn-Algorithmic-Trading-master%2FChapter4%2Fch4_pairs_correlation_init.py"
   ]
  },
  {
   "cell_type": "code",
   "execution_count": 43,
   "id": "f1ed83c3",
   "metadata": {},
   "outputs": [],
   "source": [
    "from statsmodels.tsa.stattools import coint\n",
    "def find_cointegrated_pairs(data):\n",
    "    n = data.shape[1]\n",
    "    pvalue_matrix = np.ones((n, n))\n",
    "    keys = data.keys()\n",
    "    pairs = []\n",
    "    for i in range(n):\n",
    "        for j in range(i+1, n):\n",
    "            result = coint(data[keys[i]], data[keys[j]])\n",
    "            pvalue_matrix[i, j] = result[1]\n",
    "            if result[1] < 0.02:\n",
    "                pairs.append((keys[i], keys[j]))\n",
    "    return pvalue_matrix, pairs \n"
   ]
  },
  {
   "cell_type": "code",
   "execution_count": 44,
   "id": "44f17c57",
   "metadata": {},
   "outputs": [
    {
     "name": "stdout",
     "output_type": "stream",
     "text": [
      "27\n",
      "統一 & 台灣大哥大\n",
      "台化 & 台塑石化\n",
      "華碩 & 友達\n",
      "廣達 & 聯發科\n",
      "中華電 & 聯發科\n",
      "中華電 & 長榮\n",
      "中華電 & 陽明\n",
      "中華電 & 萬海\n",
      "中華電 & 富邦金\n",
      "中華電 & 元大金\n",
      "中華電 & 兆豐金\n",
      "中華電 & 台新金\n",
      "中華電 & 中信金\n",
      "中華電 & 第一金\n",
      "中華電 & 聯詠\n",
      "中華電 & 欣興\n",
      "中華電 & 日月光投控\n",
      "中華電 & 中租\n",
      "中華電 & 合庫金\n",
      "中華電 & 矽力-KY\n",
      "中華電 & 南電\n",
      "中華電 & 富邦媒體\n",
      "中華電 & 豐泰\n",
      "萬海 & 富邦金\n",
      "兆豐金 & 第一金\n",
      "第一金 & 合庫金\n",
      "中租 & 南電\n"
     ]
    }
   ],
   "source": [
    "a,b = find_cointegrated_pairs(df)\n",
    "\n",
    "e = [(n[0][1:5],n[1][1:5]) for n in b ]\n",
    "print(len(e))\n",
    "for names in e :\n",
    "    print(f'{stock_chinese_name.get(int(names[0]))} & {stock_chinese_name.get(int(names[1]))}')"
   ]
  },
  {
   "cell_type": "markdown",
   "id": "e424f5a5",
   "metadata": {},
   "source": [
    "### 以兩兩一對股票開始計算協整性"
   ]
  },
  {
   "cell_type": "code",
   "execution_count": 45,
   "id": "9bb61d9f",
   "metadata": {},
   "outputs": [
    {
     "name": "stdout",
     "output_type": "stream",
     "text": [
      "executed\n"
     ]
    }
   ],
   "source": [
    "from statsmodels.tsa.stattools import coint\n",
    "\n",
    "#儲存結果的list\n",
    "coint_arr=[]\n",
    "\n",
    "#兩兩計算協整性 \n",
    "#first,second = 股票編號\n",
    "#df.iloc = 獲取 column 的全部資料\n",
    "for first in range(0,50-1):\n",
    "    \n",
    "    for second in range(first+1,50) :\n",
    "        \n",
    "        res = coint(df.iloc[:, first],df.iloc[:, second])\n",
    "        coint_arr.append([first,second,res])\n",
    "        \n",
    "print(\"executed\")"
   ]
  },
  {
   "cell_type": "markdown",
   "id": "f28be6c1",
   "metadata": {},
   "source": [
    "### 找出p-value < 0.05 且t-stats < 5%置信度"
   ]
  },
  {
   "cell_type": "code",
   "execution_count": 46,
   "id": "24cb0618",
   "metadata": {},
   "outputs": [
    {
     "name": "stdout",
     "output_type": "stream",
     "text": [
      "共有60個組合\n"
     ]
    }
   ],
   "source": [
    "p_value_005 = [n for n in coint_arr if n[2][1] < 0.05 and n[2][0] < n[2][2][1]]\n",
    "print(f'共有{len(p_value_005)}個組合')"
   ]
  },
  {
   "cell_type": "markdown",
   "id": "0ef50e46",
   "metadata": {},
   "source": [
    "### 顯示股票配對"
   ]
  },
  {
   "cell_type": "code",
   "execution_count": 47,
   "id": "6ca114ce",
   "metadata": {
    "scrolled": false
   },
   "outputs": [
    {
     "name": "stdout",
     "output_type": "stream",
     "text": [
      "台泥 \t 瑞昱 \n",
      "\n",
      "台泥 \t 研華 \n",
      "\n",
      "台泥 \t 聯詠 \n",
      "\n",
      "統一 \t 亞德客-KY \n",
      "\n",
      "統一 \t 廣達 \n",
      "\n",
      "統一 \t 研華 \n",
      "\n",
      "統一 \t 聯發科 \n",
      "\n",
      "統一 \t 台灣大哥大 \n",
      "\n",
      "統一 \t 遠傳 \n",
      "\n",
      "統一 \t 和碩 \n",
      "\n",
      "台化 \t 和泰車 \n",
      "\n",
      "台化 \t 台塑石化 \n",
      "\n",
      "亞德客-KY \t 聯發科 \n",
      "\n",
      "中鋼 \t 陽明 \n",
      "\n",
      "中鋼 \t 萬海 \n",
      "\n",
      "台達電 \t 聯詠 \n",
      "\n",
      "國巨 \t 和碩 \n",
      "\n",
      "國巨 \t 上海商銀 \n",
      "\n",
      "華碩 \t 友達 \n",
      "\n",
      "瑞昱 \t 廣達 \n",
      "\n",
      "瑞昱 \t 研華 \n",
      "\n",
      "廣達 \t 聯發科 \n",
      "\n",
      "廣達 \t 統一超 \n",
      "\n",
      "廣達 \t 聯詠 \n",
      "\n",
      "中華電 \t 聯發科 \n",
      "\n",
      "中華電 \t 長榮 \n",
      "\n",
      "中華電 \t 陽明 \n",
      "\n",
      "中華電 \t 萬海 \n",
      "\n",
      "中華電 \t 華南金 \n",
      "\n",
      "中華電 \t 富邦金 \n",
      "\n",
      "中華電 \t 國泰金 \n",
      "\n",
      "中華電 \t 玉山金 \n",
      "\n",
      "中華電 \t 元大金 \n",
      "\n",
      "中華電 \t 兆豐金 \n",
      "\n",
      "中華電 \t 台新金 \n",
      "\n",
      "中華電 \t 中信金 \n",
      "\n",
      "中華電 \t 第一金 \n",
      "\n",
      "中華電 \t 聯詠 \n",
      "\n",
      "中華電 \t 欣興 \n",
      "\n",
      "中華電 \t 日月光投控 \n",
      "\n",
      "中華電 \t 中租 \n",
      "\n",
      "中華電 \t 合庫金 \n",
      "\n",
      "中華電 \t 矽力-KY \n",
      "\n",
      "中華電 \t 南電 \n",
      "\n",
      "中華電 \t 富邦媒體 \n",
      "\n",
      "中華電 \t 豐泰 \n",
      "\n",
      "長榮 \t 萬海 \n",
      "\n",
      "長榮 \t 富邦金 \n",
      "\n",
      "長榮 \t 中租 \n",
      "\n",
      "陽明 \t 富邦金 \n",
      "\n",
      "萬海 \t 富邦金 \n",
      "\n",
      "兆豐金 \t 第一金 \n",
      "\n",
      "第一金 \t 欣興 \n",
      "\n",
      "第一金 \t 合庫金 \n",
      "\n",
      "統一超 \t 聯詠 \n",
      "\n",
      "統一超 \t 遠傳 \n",
      "\n",
      "統一超 \t 豐泰 \n",
      "\n",
      "欣興 \t 中租 \n",
      "\n",
      "台灣大哥大 \t 遠傳 \n",
      "\n",
      "中租 \t 南電 \n",
      "\n"
     ]
    }
   ],
   "source": [
    "for k in range(0,len(p_value_005)):\n",
    "    stock1 = stock_no.get(p_value_005[k][0])\n",
    "    stock2 = stock_no.get(p_value_005[k][1])\n",
    "    print(f'{stock_chinese_name.get(stock1)} \\t {stock_chinese_name.get(stock2)} \\n')"
   ]
  },
  {
   "cell_type": "markdown",
   "id": "cc421f94",
   "metadata": {},
   "source": [
    "### 找出p-value < 0.01 且t-stats < 5%置信度"
   ]
  },
  {
   "cell_type": "code",
   "execution_count": 48,
   "id": "9867594a",
   "metadata": {},
   "outputs": [
    {
     "name": "stdout",
     "output_type": "stream",
     "text": [
      "共有27個組合\n"
     ]
    }
   ],
   "source": [
    "p_value_002 = [n for n in coint_arr if n[2][1] < 0.02 and n[2][0] < n[2][2][1]]\n",
    "print(f'共有{len(p_value_002)}個組合')"
   ]
  },
  {
   "cell_type": "markdown",
   "id": "7f953b51",
   "metadata": {},
   "source": [
    "### 顯示股票配對"
   ]
  },
  {
   "cell_type": "code",
   "execution_count": 49,
   "id": "650e589c",
   "metadata": {},
   "outputs": [
    {
     "name": "stdout",
     "output_type": "stream",
     "text": [
      "統一 \t 台灣大哥大 \n",
      "\n",
      "台化 \t 台塑石化 \n",
      "\n",
      "華碩 \t 友達 \n",
      "\n",
      "廣達 \t 聯發科 \n",
      "\n",
      "中華電 \t 聯發科 \n",
      "\n",
      "中華電 \t 長榮 \n",
      "\n",
      "中華電 \t 陽明 \n",
      "\n",
      "中華電 \t 萬海 \n",
      "\n",
      "中華電 \t 富邦金 \n",
      "\n",
      "中華電 \t 元大金 \n",
      "\n",
      "中華電 \t 兆豐金 \n",
      "\n",
      "中華電 \t 台新金 \n",
      "\n",
      "中華電 \t 中信金 \n",
      "\n",
      "中華電 \t 第一金 \n",
      "\n",
      "中華電 \t 聯詠 \n",
      "\n",
      "中華電 \t 欣興 \n",
      "\n",
      "中華電 \t 日月光投控 \n",
      "\n",
      "中華電 \t 中租 \n",
      "\n",
      "中華電 \t 合庫金 \n",
      "\n",
      "中華電 \t 矽力-KY \n",
      "\n",
      "中華電 \t 南電 \n",
      "\n",
      "中華電 \t 富邦媒體 \n",
      "\n",
      "中華電 \t 豐泰 \n",
      "\n",
      "萬海 \t 富邦金 \n",
      "\n",
      "兆豐金 \t 第一金 \n",
      "\n",
      "第一金 \t 合庫金 \n",
      "\n",
      "中租 \t 南電 \n",
      "\n"
     ]
    }
   ],
   "source": [
    "for k in range(0,len(p_value_002)):\n",
    "    stock1 = stock_no.get(p_value_002[k][0])\n",
    "    stock2 = stock_no.get(p_value_002[k][1])\n",
    "    print(f'{stock_chinese_name.get(stock1)} \\t {stock_chinese_name.get(stock2)} \\n')"
   ]
  },
  {
   "cell_type": "markdown",
   "id": "f2817cb2",
   "metadata": {},
   "source": [
    "### 找出p-value < 0.01 且t-stats < 1%置信度"
   ]
  },
  {
   "cell_type": "code",
   "execution_count": 51,
   "id": "67c30507",
   "metadata": {},
   "outputs": [
    {
     "name": "stdout",
     "output_type": "stream",
     "text": [
      "共有14個組合\n"
     ]
    }
   ],
   "source": [
    "p_value_001 = [n for n in coint_arr if n[2][1] < 0.01 and n[2][0] < n[2][2][0]]\n",
    "print(f'共有{len(p_value_001)}個組合')"
   ]
  },
  {
   "cell_type": "markdown",
   "id": "24158a01",
   "metadata": {},
   "source": [
    "### 顯示股票配對"
   ]
  },
  {
   "cell_type": "code",
   "execution_count": 52,
   "id": "e61de014",
   "metadata": {
    "scrolled": false
   },
   "outputs": [
    {
     "name": "stdout",
     "output_type": "stream",
     "text": [
      "統一 \t 台灣大哥大 \n",
      "\n",
      "台化 \t 台塑石化 \n",
      "\n",
      "華碩 \t 友達 \n",
      "\n",
      "中華電 \t 長榮 \n",
      "\n",
      "中華電 \t 陽明 \n",
      "\n",
      "中華電 \t 萬海 \n",
      "\n",
      "中華電 \t 兆豐金 \n",
      "\n",
      "中華電 \t 中信金 \n",
      "\n",
      "中華電 \t 第一金 \n",
      "\n",
      "中華電 \t 欣興 \n",
      "\n",
      "中華電 \t 日月光投控 \n",
      "\n",
      "中華電 \t 中租 \n",
      "\n",
      "兆豐金 \t 第一金 \n",
      "\n",
      "中租 \t 南電 \n",
      "\n"
     ]
    }
   ],
   "source": [
    "for k in range(0,len(p_value_001)):\n",
    "    stock1 = stock_no.get(p_value_001[k][0])\n",
    "    stock2 = stock_no.get(p_value_001[k][1])\n",
    "    print(f'{stock_chinese_name.get(stock1)} \\t {stock_chinese_name.get(stock2)} \\n')"
   ]
  },
  {
   "cell_type": "code",
   "execution_count": null,
   "id": "cc129c66",
   "metadata": {},
   "outputs": [],
   "source": []
  },
  {
   "cell_type": "code",
   "execution_count": null,
   "id": "b3489c40",
   "metadata": {},
   "outputs": [],
   "source": []
  }
 ],
 "metadata": {
  "kernelspec": {
   "display_name": "Python 3 (ipykernel)",
   "language": "python",
   "name": "python3"
  },
  "language_info": {
   "codemirror_mode": {
    "name": "ipython",
    "version": 3
   },
   "file_extension": ".py",
   "mimetype": "text/x-python",
   "name": "python",
   "nbconvert_exporter": "python",
   "pygments_lexer": "ipython3",
   "version": "3.9.7"
  }
 },
 "nbformat": 4,
 "nbformat_minor": 5
}
